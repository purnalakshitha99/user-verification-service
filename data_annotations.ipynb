{
 "cells": [
  {
   "cell_type": "code",
   "execution_count": 7,
   "metadata": {},
   "outputs": [],
   "source": [
    "import uuid, cv2, json, os\n",
    "from deepface import DeepFace"
   ]
  },
  {
   "cell_type": "code",
   "execution_count": 8,
   "metadata": {},
   "outputs": [],
   "source": [
    "def extract_face_information(img_path):\n",
    "    face_objs = DeepFace.represent(\n",
    "                                img_path = img_path,\n",
    "                                model_name = \"Facenet\",\n",
    "                                enforce_detection = False\n",
    "                                )\n",
    "    img_path = img_path.replace(\"\\\\\", \"/\")\n",
    "    user_name = img_path.split(\"/\")[-2]\n",
    "\n",
    "    if len(face_objs) >= 1:\n",
    "        annotations = []\n",
    "        for i in range(len(face_objs)):\n",
    "            annotation = {}\n",
    "            face = face_objs[i]\n",
    "            facial_area = face['facial_area']\n",
    "            x, y, w, h = facial_area['x'], facial_area['y'], facial_area['w'], facial_area['h']\n",
    "\n",
    "            annotation[\"image_path\"] = img_path\n",
    "            annotation[\"facial_area\"] = facial_area\n",
    "            annotation[\"x\"] = x\n",
    "            annotation[\"y\"] = y\n",
    "            annotation[\"w\"] = w\n",
    "            annotation[\"h\"] = h\n",
    "\n",
    "            annotations.append(annotation)\n",
    "\n",
    "        return annotations\n",
    "\n",
    "    return None\n",
    "\n",
    "def video_annotations(video_path):\n",
    "    cap = cv2.VideoCapture(video_path)\n",
    "    while True:\n",
    "        ret, frame = cap.read()\n",
    "        if not ret:\n",
    "            break\n",
    "\n",
    "        rand_name = f\"{uuid.uuid4()}.jpg\"\n",
    "        image_path = f\"data/face_annotations/images/{rand_name}\"\n",
    "        cv2.imwrite(image_path, frame)\n",
    "\n",
    "        annotations = extract_face_information(image_path)\n",
    "\n",
    "        if annotations:\n",
    "            with open(f\"data/face_annotations/annotations/{rand_name}.json\", \"w\") as f:\n",
    "                json.dump(annotations, f, indent=4)\n",
    "        else:\n",
    "            os.remove(image_path)\n",
    "\n",
    "    cap.release()"
   ]
  },
  {
   "cell_type": "code",
   "execution_count": 9,
   "metadata": {},
   "outputs": [],
   "source": [
    "for root, dirs, files in os.walk(\"data/face_annotations/videos\"):\n",
    "    for file in files:\n",
    "        video_annotations(os.path.join(root, file))\n",
    "# video_annotations(\"data/face_annotations/videos/3181891-uhd_3840_2160_25fps.mp4\")"
   ]
  },
  {
   "cell_type": "code",
   "execution_count": null,
   "metadata": {},
   "outputs": [],
   "source": []
  }
 ],
 "metadata": {
  "kernelspec": {
   "display_name": "tf210",
   "language": "python",
   "name": "python3"
  },
  "language_info": {
   "codemirror_mode": {
    "name": "ipython",
    "version": 3
   },
   "file_extension": ".py",
   "mimetype": "text/x-python",
   "name": "python",
   "nbconvert_exporter": "python",
   "pygments_lexer": "ipython3",
   "version": "3.10.14"
  }
 },
 "nbformat": 4,
 "nbformat_minor": 2
}
