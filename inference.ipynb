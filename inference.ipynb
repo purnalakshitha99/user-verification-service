{
 "cells": [
  {
   "cell_type": "code",
   "execution_count": 1,
   "metadata": {},
   "outputs": [
    {
     "name": "stderr",
     "output_type": "stream",
     "text": [
      "c:\\Users\\isuru\\anaconda3\\envs\\uni\\lib\\site-packages\\tqdm\\auto.py:21: TqdmWarning: IProgress not found. Please update jupyter and ipywidgets. See https://ipywidgets.readthedocs.io/en/stable/user_install.html\n",
      "  from .autonotebook import tqdm as notebook_tqdm\n",
      "Special tokens have been added in the vocabulary, make sure the associated word embeddings are fine-tuned or trained.\n"
     ]
    },
    {
     "name": "stdout",
     "output_type": "stream",
     "text": [
      "Grammer Error Detection App Model Loaded Successfully !!!\n"
     ]
    },
    {
     "name": "stderr",
     "output_type": "stream",
     "text": [
      "c:\\Users\\isuru\\anaconda3\\envs\\uni\\lib\\site-packages\\huggingface_hub\\file_download.py:1150: FutureWarning: `resume_download` is deprecated and will be removed in version 1.0.0. Downloads always resume when possible. If you want to force a new download, use `force_download=True`.\n",
      "  warnings.warn(\n"
     ]
    },
    {
     "name": "stdout",
     "output_type": "stream",
     "text": [
      "Answer Evaluation App Model Loaded Successfully !!!\n",
      "WARNING:tensorflow:From c:\\Users\\isuru\\anaconda3\\envs\\uni\\lib\\site-packages\\tf_keras\\src\\losses.py:2976: The name tf.losses.sparse_softmax_cross_entropy is deprecated. Please use tf.compat.v1.losses.sparse_softmax_cross_entropy instead.\n",
      "\n",
      "Connected to MongoDB\n"
     ]
    }
   ],
   "source": [
    "from src.flow_analyzer import *\n",
    "from src.answer_evaluation import *\n",
    "from src.face_monitoring_inference import *"
   ]
  },
  {
   "cell_type": "code",
   "execution_count": 2,
   "metadata": {},
   "outputs": [
    {
     "name": "stdout",
     "output_type": "stream",
     "text": [
      "FPS:  73.32058386504676\n"
     ]
    }
   ],
   "source": [
    "face_image_inference(\"Akshay Kumar\", 'data/test_images/qqq.jpg')"
   ]
  },
  {
   "cell_type": "code",
   "execution_count": 3,
   "metadata": {},
   "outputs": [
    {
     "data": {
      "text/plain": [
       "{'detected_percentage': '77.78 %', 'forward_percentage': '38.89 %'}"
      ]
     },
     "execution_count": 3,
     "metadata": {},
     "output_type": "execute_result"
    }
   ],
   "source": [
    "face_analysis(\"Isuru Alagiyawanna\")"
   ]
  },
  {
   "cell_type": "code",
   "execution_count": 4,
   "metadata": {},
   "outputs": [
    {
     "name": "stdout",
     "output_type": "stream",
     "text": [
      "Document already Chunked !\n",
      "{'filler_words_and_pause_fillers': {'filler_words': [{'filler_word': 'like',\n",
      "                                                      'word_count': 4},\n",
      "                                                     {'filler_word': 'you know',\n",
      "                                                      'word_count': 3},\n",
      "                                                     {'filler_word': 'well',\n",
      "                                                      'word_count': 1}],\n",
      "                                    'filler_words_percentage': '8.2 %',\n",
      "                                    'pause_filler_percentage': '2 %',\n",
      "                                    'repetitive_words': [{'repetitive_word': 'really',\n",
      "                                                          'word_count': 1},\n",
      "                                                         {'repetitive_word': 'seriously',\n",
      "                                                          'word_count': 1}]},\n",
      " 'grammar_errors': '17.32 %'}\n"
     ]
    }
   ],
   "source": [
    "audio_path = \"store/audios/new_video.mp3\"\n",
    "response = flowAnalyzerPipeline(audio_path)\n",
    "pprint.pprint(response)"
   ]
  },
  {
   "cell_type": "code",
   "execution_count": 5,
   "metadata": {},
   "outputs": [
    {
     "data": {
      "text/plain": [
       "'92 %'"
      ]
     },
     "execution_count": 5,
     "metadata": {},
     "output_type": "execute_result"
    },
    {
     "ename": "",
     "evalue": "",
     "output_type": "error",
     "traceback": [
      "\u001b[1;31mThe Kernel crashed while executing code in the current cell or a previous cell. \n",
      "\u001b[1;31mPlease review the code in the cell(s) to identify a possible cause of the failure. \n",
      "\u001b[1;31mClick <a href='https://aka.ms/vscodeJupyterKernelCrash'>here</a> for more info. \n",
      "\u001b[1;31mView Jupyter <a href='command:jupyter.viewOutput'>log</a> for further details."
     ]
    }
   ],
   "source": [
    "inference_answer_evaluation(\n",
    "                            'What is the role of a prototype program in problem',\n",
    "                            'to simulate the behaviour of portions of the desired software product', \n",
    "                            'program that simulates the behavior of portions of the desired software product'\n",
    "                            )"
   ]
  }
 ],
 "metadata": {
  "kernelspec": {
   "display_name": "uni",
   "language": "python",
   "name": "python3"
  },
  "language_info": {
   "codemirror_mode": {
    "name": "ipython",
    "version": 3
   },
   "file_extension": ".py",
   "mimetype": "text/x-python",
   "name": "python",
   "nbconvert_exporter": "python",
   "pygments_lexer": "ipython3",
   "version": "3.10.13"
  }
 },
 "nbformat": 4,
 "nbformat_minor": 2
}
