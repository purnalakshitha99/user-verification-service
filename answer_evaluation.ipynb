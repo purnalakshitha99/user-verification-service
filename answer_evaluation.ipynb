{
 "cells": [
  {
   "cell_type": "code",
   "execution_count": 1,
   "metadata": {},
   "outputs": [
    {
     "name": "stderr",
     "output_type": "stream",
     "text": [
      "c:\\Users\\isuru\\anaconda3\\envs\\uni\\lib\\site-packages\\tqdm\\auto.py:21: TqdmWarning: IProgress not found. Please update jupyter and ipywidgets. See https://ipywidgets.readthedocs.io/en/stable/user_install.html\n",
      "  from .autonotebook import tqdm as notebook_tqdm\n"
     ]
    }
   ],
   "source": [
    "import torch\n",
    "import yaml, os\n",
    "import numpy as np\n",
    "import pandas as pd\n",
    "import matplotlib.pyplot as plt\n",
    "import torch.nn.functional as F\n",
    "from llama_index.core.prompts import (\n",
    "                                ChatMessage,\n",
    "                                MessageRole,\n",
    "                                ChatPromptTemplate,\n",
    "                                )\n",
    "from transformers import AutoTokenizer, AutoModel\n",
    "from llama_index.llms.groq import Groq"
   ]
  },
  {
   "cell_type": "code",
   "execution_count": 2,
   "metadata": {},
   "outputs": [
    {
     "name": "stderr",
     "output_type": "stream",
     "text": [
      "c:\\Users\\isuru\\anaconda3\\envs\\uni\\lib\\site-packages\\huggingface_hub\\file_download.py:1150: FutureWarning: `resume_download` is deprecated and will be removed in version 1.0.0. Downloads always resume when possible. If you want to force a new download, use `force_download=True`.\n",
      "  warnings.warn(\n",
      "c:\\Users\\isuru\\anaconda3\\envs\\uni\\lib\\site-packages\\huggingface_hub\\file_download.py:1150: FutureWarning: `resume_download` is deprecated and will be removed in version 1.0.0. Downloads always resume when possible. If you want to force a new download, use `force_download=True`.\n",
      "  warnings.warn(\n",
      "c:\\Users\\isuru\\anaconda3\\envs\\uni\\lib\\site-packages\\huggingface_hub\\file_download.py:159: UserWarning: `huggingface_hub` cache-system uses symlinks by default to efficiently store duplicated files but your machine does not support them in C:\\Users\\isuru\\.cache\\huggingface\\hub\\models--Alibaba-NLP--gte-base-en-v1.5. Caching files will still work but in a degraded version that might require more space on your disk. This warning can be disabled by setting the `HF_HUB_DISABLE_SYMLINKS_WARNING` environment variable. For more details, see https://huggingface.co/docs/huggingface_hub/how-to-cache#limitations.\n",
      "To support symlinks on Windows, you either need to activate Developer Mode or to run Python as an administrator. In order to see activate developer mode, see this article: https://docs.microsoft.com/en-us/windows/apps/get-started/enable-your-device-for-development\n",
      "  warnings.warn(message)\n"
     ]
    }
   ],
   "source": [
    "# model_name = 'BAAI/bge-large-en-v1.5'\n",
    "model_name = 'Alibaba-NLP/gte-base-en-v1.5'\n",
    "model = AutoModel.from_pretrained(model_name, trust_remote_code=True)\n",
    "tokenizer = AutoTokenizer.from_pretrained(model_name, trust_remote_code=True)\n",
    "device = torch.device('cuda:0' if torch.cuda.is_available() else 'cpu')"
   ]
  },
  {
   "cell_type": "code",
   "execution_count": 3,
   "metadata": {},
   "outputs": [],
   "source": [
    "def mean_pooling(model_output, attention_mask):\n",
    "    token_embeddings = model_output[0] #First element of model_output contains all token embeddings\n",
    "    input_mask_expanded = attention_mask.unsqueeze(-1).expand(token_embeddings.size()).float()\n",
    "    return torch.sum(token_embeddings * input_mask_expanded, 1) / torch.clamp(input_mask_expanded.sum(1), min=1e-9)\n",
    "\n",
    "def get_sentence_embeddings(sentence):\n",
    "    encoded_input = tokenizer([sentence], padding=True, truncation=True, return_tensors='pt')\n",
    "    with torch.no_grad():\n",
    "        model_output = model(**encoded_input)\n",
    "    sentence_embeddings = mean_pooling(model_output, encoded_input['attention_mask'])\n",
    "    sentence_embeddings = F.normalize(sentence_embeddings, p=2, dim=1)\n",
    "    return sentence_embeddings"
   ]
  },
  {
   "cell_type": "code",
   "execution_count": 4,
   "metadata": {},
   "outputs": [],
   "source": [
    "def load_Dataset(path = 'data/programming_qa.csv'):\n",
    "    df = pd.read_csv(path)\n",
    "    df = df[['Model_Answer', 'Answer', 'Score']]\n",
    "    df = df.dropna()\n",
    "    df = df.sample(frac=1).reset_index(drop=True)\n",
    "    df = df.reset_index(drop=True)\n",
    "\n",
    "    answer01 = df['Model_Answer'].tolist()\n",
    "    answer02 = df['Answer'].tolist()\n",
    "    score = df['Score'].tolist()\n",
    "    \n",
    "    ans_pairs = [(answer01[i], answer02[i]) for i in range(len(answer01))]\n",
    "    return ans_pairs, score"
   ]
  },
  {
   "cell_type": "code",
   "execution_count": 5,
   "metadata": {},
   "outputs": [],
   "source": [
    "class TechAnswerValidationDataSet(torch.utils.data.Dataset):\n",
    "    def __init__(\n",
    "                self, \n",
    "                text_pairs, \n",
    "                similarity, \n",
    "                tokenizer, \n",
    "                max_length=50\n",
    "                ):\n",
    "        self.tokenizer = tokenizer\n",
    "        self.text_pairs = text_pairs\n",
    "        self.similarity = similarity\n",
    "        self.max_length = max_length\n",
    "\n",
    "    def __len__(self):\n",
    "        return len(self.text_pairs)\n",
    "\n",
    "    def __getitem__(self, idx):\n",
    "        text_pair = self.text_pairs[idx]\n",
    "        similarity = self.similarity[idx]\n",
    "\n",
    "        encoded_input_01 = self.tokenizer(\n",
    "                                        [text_pair[0]], \n",
    "                                        padding='max_length', \n",
    "                                        truncation=True, \n",
    "                                        max_length=self.max_length, \n",
    "                                        return_tensors='pt'\n",
    "                                        )\n",
    "        \n",
    "        encoded_input_02 = self.tokenizer(\n",
    "                                        [text_pair[1]], \n",
    "                                        padding='max_length', \n",
    "                                        truncation=True, \n",
    "                                        max_length=self.max_length, \n",
    "                                        return_tensors='pt'\n",
    "                                        )\n",
    "        \n",
    "        encoded_input_01['input_ids'] = encoded_input_01['input_ids'].squeeze()\n",
    "        encoded_input_01['attention_mask'] = encoded_input_01['attention_mask'].squeeze()\n",
    "        encoded_input_01['token_type_ids'] = encoded_input_01['token_type_ids'].squeeze()\n",
    "\n",
    "        encoded_input_02['input_ids'] = encoded_input_02['input_ids'].squeeze()\n",
    "        encoded_input_02['attention_mask'] = encoded_input_02['attention_mask'].squeeze()\n",
    "        encoded_input_02['token_type_ids'] = encoded_input_02['token_type_ids'].squeeze()\n",
    "\n",
    "        return {\n",
    "                'encoded_input_01': encoded_input_01, \n",
    "                'encoded_input_02': encoded_input_02, \n",
    "                'similarity': torch.tensor(similarity, dtype=torch.float)\n",
    "                }"
   ]
  },
  {
   "cell_type": "code",
   "execution_count": 6,
   "metadata": {},
   "outputs": [],
   "source": [
    "text_pairs, similarity = load_Dataset()\n",
    "dataset = TechAnswerValidationDataSet(text_pairs, similarity, tokenizer)\n",
    "data_loader = torch.utils.data.DataLoader(dataset, batch_size=16, shuffle=True)"
   ]
  },
  {
   "cell_type": "code",
   "execution_count": 7,
   "metadata": {},
   "outputs": [
    {
     "name": "stderr",
     "output_type": "stream",
     "text": [
      "C:\\Users\\isuru\\.cache\\huggingface\\modules\\transformers_modules\\Alibaba-NLP\\new-impl\\e244c9398934a48b4663dacf7ff4965961a6807a\\modeling.py:579: UserWarning: 1Torch was not compiled with flash attention. (Triggered internally at ..\\aten\\src\\ATen\\native\\transformers\\cuda\\sdp_utils.cpp:263.)\n",
      "  attn_output = torch.nn.functional.scaled_dot_product_attention(\n"
     ]
    },
    {
     "name": "stdout",
     "output_type": "stream",
     "text": [
      "Epoch: 0, Loss: 1.8707346485058467\n",
      "Epoch: 1, Loss: 0.7634115571280321\n",
      "Epoch: 2, Loss: 0.35205947096149126\n",
      "Epoch: 3, Loss: 0.22527688572804133\n",
      "Epoch: 4, Loss: 0.13597518651435772\n",
      "Epoch: 5, Loss: 0.11338813555737337\n",
      "Epoch: 6, Loss: 0.08606662598749001\n",
      "Epoch: 7, Loss: 0.08103099579612415\n",
      "Epoch: 8, Loss: 0.07934459892722467\n",
      "Epoch: 9, Loss: 0.08906140224076807\n",
      "Epoch: 10, Loss: 0.08867461481442054\n",
      "Epoch: 11, Loss: 0.08230964821142454\n",
      "Epoch: 12, Loss: 0.07352609477937222\n",
      "Epoch: 13, Loss: 0.07040445092444618\n",
      "Epoch: 14, Loss: 0.07325003951787949\n",
      "Epoch: 15, Loss: 0.07428249281831086\n",
      "Epoch: 16, Loss: 0.06637087048962713\n",
      "Epoch: 17, Loss: 0.06799084108943741\n",
      "Epoch: 18, Loss: 0.06289987468005469\n",
      "Epoch: 19, Loss: 0.07101501033641398\n",
      "Epoch: 20, Loss: 0.06922808965978523\n",
      "Epoch: 21, Loss: 0.06538456826470793\n",
      "Epoch: 22, Loss: 0.07187004467161993\n",
      "Epoch: 23, Loss: 0.07525507293641567\n",
      "Epoch: 24, Loss: 0.06289290042904516\n",
      "Epoch: 25, Loss: 0.0935435133241117\n",
      "Epoch: 26, Loss: 0.3832490480815371\n",
      "Epoch: 27, Loss: 0.4608462270721793\n",
      "Epoch: 28, Loss: 0.26343789434681336\n",
      "Epoch: 29, Loss: 0.13520335155228774\n",
      "Epoch: 30, Loss: 0.09266356205878158\n",
      "Epoch: 31, Loss: 0.07675697999230276\n",
      "Epoch: 32, Loss: 0.11711782038755093\n",
      "Epoch: 33, Loss: 0.06931448757958909\n",
      "Epoch: 34, Loss: 0.05526096414697046\n",
      "Epoch: 35, Loss: 0.05147661600029096\n",
      "Epoch: 36, Loss: 0.03473413130656506\n",
      "Epoch: 37, Loss: 0.030963235006202013\n",
      "Epoch: 38, Loss: 0.030050865908463797\n",
      "Epoch: 39, Loss: 0.029546219470600286\n",
      "Epoch: 40, Loss: 0.029371965595831474\n",
      "Epoch: 41, Loss: 0.029856592907259862\n",
      "Epoch: 42, Loss: 0.03224761746202906\n",
      "Epoch: 43, Loss: 0.032492392705753444\n",
      "Epoch: 44, Loss: 0.03475836278482651\n",
      "Epoch: 45, Loss: 0.03581148627679795\n",
      "Epoch: 46, Loss: 0.03877533763491859\n",
      "Epoch: 47, Loss: 0.04285992148797959\n",
      "Epoch: 48, Loss: 0.04645751658206185\n",
      "Epoch: 49, Loss: 0.04692066995582233\n",
      "Epoch: 50, Loss: 0.04655772959503035\n",
      "Epoch: 51, Loss: 0.04904716060962528\n",
      "Epoch: 52, Loss: 0.04327749336293588\n",
      "Epoch: 53, Loss: 0.03920538519664357\n",
      "Epoch: 54, Loss: 0.03745155786164105\n",
      "Epoch: 55, Loss: 0.041713867848739025\n",
      "Epoch: 56, Loss: 0.054867371680835886\n",
      "Epoch: 57, Loss: 0.06448022515513002\n",
      "Epoch: 58, Loss: 0.08173263140333195\n",
      "Epoch: 59, Loss: 0.10555801490632197\n",
      "Epoch: 60, Loss: 0.13444599313351016\n",
      "Epoch: 61, Loss: 0.17871850030496716\n",
      "Epoch: 62, Loss: 0.14415307481462758\n",
      "Epoch: 63, Loss: 0.167841764241457\n",
      "Epoch: 64, Loss: 0.10287518754601478\n",
      "Epoch: 65, Loss: 0.08432368835279097\n",
      "Epoch: 66, Loss: 0.06637842793793727\n",
      "Epoch: 67, Loss: 0.058699146460276096\n",
      "Epoch: 68, Loss: 0.056246542740846055\n",
      "Epoch: 69, Loss: 0.054137914362363516\n"
     ]
    }
   ],
   "source": [
    "optim = torch.optim.AdamW(model.parameters(), lr=5e-5)\n",
    "model.to(device)\n",
    "\n",
    "all_losses = []\n",
    "for epoch in range(70):\n",
    "    epoch_loss = 0\n",
    "    for batch in data_loader:\n",
    "        optim.zero_grad()\n",
    "        batch_encoded_input_01 = batch['encoded_input_01'].to(device)\n",
    "        batch_encoded_input_02 = batch['encoded_input_02'].to(device)\n",
    "        batch_similarity = batch['similarity'].to('cuda:0')\n",
    "\n",
    "        model_output_01 = model(**batch_encoded_input_01)\n",
    "        model_output_02 = model(**batch_encoded_input_02)\n",
    "\n",
    "        sentence_embeddings_01 = mean_pooling(model_output_01, batch_encoded_input_01['attention_mask'])\n",
    "        sentence_embeddings_01 = F.normalize(sentence_embeddings_01, p=2, dim=1)\n",
    "\n",
    "        sentence_embeddings_02 = mean_pooling(model_output_02, batch_encoded_input_02['attention_mask'])\n",
    "        sentence_embeddings_02 = F.normalize(sentence_embeddings_02, p=2, dim=1)\n",
    "\n",
    "        cosine_scores = F.cosine_similarity(x1=sentence_embeddings_01, x2=sentence_embeddings_02)\n",
    "        rating_scores = cosine_scores * 5\n",
    "\n",
    "        loss = F.mse_loss(rating_scores, batch_similarity)\n",
    "        loss.backward()\n",
    "        optim.step()\n",
    "        \n",
    "        epoch_loss += loss.item()\n",
    "    epoch_loss = epoch_loss / len(data_loader)\n",
    "    all_losses.append(epoch_loss)\n",
    "\n",
    "    print('Epoch: {}, Loss: {}'.format(epoch, epoch_loss))"
   ]
  },
  {
   "cell_type": "code",
   "execution_count": 8,
   "metadata": {},
   "outputs": [
    {
     "data": {
      "image/png": "[encoded data removed]",
      "text/plain": [
       "<Figure size 640x480 with 1 Axes>"
      ]
     },
     "metadata": {},
     "output_type": "display_data"
    }
   ],
   "source": [
    "# plot the loss\n",
    "plt.plot(all_losses)\n",
    "plt.xlabel('Epoch')\n",
    "plt.ylabel('Loss')\n",
    "plt.title('Loss Plot')\n",
    "plt.show()"
   ]
  },
  {
   "attachments": {},
   "cell_type": "markdown",
   "metadata": {},
   "source": [
    "### save finetuned senetence transformer"
   ]
  },
  {
   "cell_type": "code",
   "execution_count": 11,
   "metadata": {},
   "outputs": [
    {
     "data": {
      "text/plain": [
       "('models/answer_evaluation\\\\tokenizer_config.json',\n",
       " 'models/answer_evaluation\\\\special_tokens_map.json',\n",
       " 'models/answer_evaluation\\\\vocab.txt',\n",
       " 'models/answer_evaluation\\\\added_tokens.json',\n",
       " 'models/answer_evaluation\\\\tokenizer.json')"
      ]
     },
     "execution_count": 11,
     "metadata": {},
     "output_type": "execute_result"
    }
   ],
   "source": [
    "model.save_pretrained('models/answer_evaluation')\n",
    "tokenizer.save_pretrained('models/answer_evaluation')"
   ]
  },
  {
   "attachments": {},
   "cell_type": "markdown",
   "metadata": {},
   "source": [
    "### Inference"
   ]
  },
  {
   "cell_type": "code",
   "execution_count": 7,
   "metadata": {},
   "outputs": [
    {
     "name": "stderr",
     "output_type": "stream",
     "text": [
      "c:\\Users\\isuru\\anaconda3\\envs\\uni\\lib\\site-packages\\huggingface_hub\\file_download.py:1150: FutureWarning: `resume_download` is deprecated and will be removed in version 1.0.0. Downloads always resume when possible. If you want to force a new download, use `force_download=True`.\n",
      "  warnings.warn(\n"
     ]
    },
    {
     "name": "stdout",
     "output_type": "stream",
     "text": [
      "Answer Evaluation App Model Loaded Successfully\n"
     ]
    }
   ],
   "source": [
    "with open('secrets.yaml') as f:\n",
    "    secrets = yaml.load(f, Loader=yaml.FullLoader)\n",
    "\n",
    "os.environ[\"GROQ_API_KEY\"] = secrets['GROQ_API_KEY']\n",
    "completion_llm = Groq(\n",
    "                    model=\"llama3-70b-8192\", \n",
    "                    api_key=os.environ[\"GROQ_API_KEY\"],\n",
    "                    temperature=0.0\n",
    "                    )\n",
    "\n",
    "model = AutoModel.from_pretrained('models/answer_evaluation', trust_remote_code=True)\n",
    "tokenizer = AutoTokenizer.from_pretrained('models/answer_evaluation', trust_remote_code=True)\n",
    "device = torch.device('cuda:0' if torch.cuda.is_available() else 'cpu')\n",
    "\n",
    "model.to(device)\n",
    "model.eval()\n",
    "\n",
    "print(\"Answer Evaluation App Model Loaded Successfully\")"
   ]
  },
  {
   "cell_type": "code",
   "execution_count": 8,
   "metadata": {},
   "outputs": [],
   "source": [
    "def mean_pooling(model_output, attention_mask):\n",
    "    token_embeddings = model_output[0] #First element of model_output contains all token embeddings\n",
    "    input_mask_expanded = attention_mask.unsqueeze(-1).expand(token_embeddings.size()).float()\n",
    "    return torch.sum(token_embeddings * input_mask_expanded, 1) / torch.clamp(input_mask_expanded.sum(1), min=1e-9)\n",
    "\n",
    "def get_sentence_embeddings(sentence):\n",
    "    encoded_input = tokenizer([sentence], padding=True, truncation=True, return_tensors='pt')\n",
    "    with torch.no_grad():\n",
    "        model_output = model(**encoded_input)\n",
    "    sentence_embeddings = mean_pooling(model_output, encoded_input['attention_mask'])\n",
    "    sentence_embeddings = F.normalize(sentence_embeddings, p=2, dim=1)\n",
    "    return sentence_embeddings\n",
    "\n",
    "def inference_answer_evaluation(\n",
    "                                question,\n",
    "                                answer01, \n",
    "                                answer02,\n",
    "                                PRMT_TMPL = \"\"\"\n",
    "                                You have given Programming related question, correct answer and candidate answer. Rate the candidate answer on a scale of 0 to 5 based on how well it answers the question.\n",
    "\n",
    "                                Question: {question}\n",
    "                                Correct Answer: {correct_answer}\n",
    "                                Candidate Answer: {candidate_answer}\n",
    "                                Answer Rating:\n",
    "\n",
    "                                Return only the rating score as a integer value.\n",
    "                                \"\"\"\n",
    "                                ):\n",
    "        try:\n",
    "                sys_template = ChatPromptTemplate(\n",
    "                                                message_templates=[\n",
    "                                                                ChatMessage(\n",
    "                                                                        role=MessageRole.SYSTEM, \n",
    "                                                                        content=PRMT_TMPL\n",
    "                                                                        )\n",
    "                                                                ]\n",
    "                                                )\n",
    "                fmt_messages = sys_template.format_messages(\n",
    "                                                            question=question,\n",
    "                                                            correct_answer=answer01,\n",
    "                                                            candidate_answer=answer02\n",
    "                                                            )\n",
    "                chat_response = completion_llm.chat(fmt_messages)\n",
    "                raw_output = int(chat_response.message.content)\n",
    "                int_out = min(100, max(0, int(raw_output * 20) + np.random.randint(-10, 10)))\n",
    "\n",
    "                int_out = round(int_out, 2)\n",
    "                return f\"{int_out} %\"\n",
    "\n",
    "        except:\n",
    "                inf_encoded_input_01 = tokenizer(\n",
    "                                                answer01, \n",
    "                                                padding='max_length', \n",
    "                                                truncation=True, \n",
    "                                                max_length=50, \n",
    "                                                return_tensors='pt'\n",
    "                                                )\n",
    "                \n",
    "                inf_encoded_input_02 = tokenizer(\n",
    "                                                answer02, \n",
    "                                                padding='max_length', \n",
    "                                                truncation=True, \n",
    "                                                max_length=50, \n",
    "                                                return_tensors='pt'\n",
    "                                                )\n",
    "\n",
    "                with torch.no_grad():\n",
    "                        model_output_01 = model(**inf_encoded_input_01.to(device))\n",
    "                        model_output_02 = model(**inf_encoded_input_02.to(device))\n",
    "\n",
    "                sentence_embeddings_01 = mean_pooling(model_output_01, inf_encoded_input_01['attention_mask'])\n",
    "                sentence_embeddings_01 = F.normalize(sentence_embeddings_01, p=2, dim=1)\n",
    "\n",
    "                sentence_embeddings_02 = mean_pooling(model_output_02, inf_encoded_input_02['attention_mask'])\n",
    "                sentence_embeddings_02 = F.normalize(sentence_embeddings_02, p=2, dim=1)\n",
    "                cosine_score = F.cosine_similarity(x1=sentence_embeddings_01, x2=sentence_embeddings_02)\n",
    "                rating_score = cosine_score * 100\n",
    "                rating_score = rating_score.cpu().numpy().squeeze()\n",
    "                rating_score = max(0, rating_score)\n",
    "                rating_score = min(100, rating_score)\n",
    "                return f\"{round(float(rating_score), 2)} %\" "
   ]
  },
  {
   "cell_type": "code",
   "execution_count": 9,
   "metadata": {},
   "outputs": [
    {
     "data": {
      "text/plain": [
       "'100 %'"
      ]
     },
     "execution_count": 9,
     "metadata": {},
     "output_type": "execute_result"
    }
   ],
   "source": [
    "inference_answer_evaluation(\n",
    "                            'What is the role of a prototype program in problem',\n",
    "                            'to simulate the behaviour of portions of the desired software product', \n",
    "                            'program that simulates the behavior of portions of the desired software product'\n",
    "                            )"
   ]
  }
 ],
 "metadata": {
  "kernelspec": {
   "display_name": "torch113",
   "language": "python",
   "name": "python3"
  },
  "language_info": {
   "codemirror_mode": {
    "name": "ipython",
    "version": 3
   },
   "file_extension": ".py",
   "mimetype": "text/x-python",
   "name": "python",
   "nbconvert_exporter": "python",
   "pygments_lexer": "ipython3",
   "version": "3.10.13"
  },
  "orig_nbformat": 4
 },
 "nbformat": 4,
 "nbformat_minor": 2
}
